{
 "cells": [
  {
   "cell_type": "markdown",
   "metadata": {
    "colab_type": "text",
    "id": "DqcM72ZdtEYm"
   },
   "source": [
    "# 18ma573pub\n",
    "## Computational methods of financial mathematics\n",
    "\n",
    "__General course info.__\n",
    "- Syllabus - [pdf](doc/syllabus_v01.pdf)\n",
    "- Project - [pdf](doc/capstone.pdf)\n",
    "\n",
    "__Python basics with colab__\n",
    "- Evironment setups with GitHub and Colab - [ipynb](src/first_notebook_v01.ipynb)\n",
    "- Python notebook introduction - [ipynb](src/python_notebook.ipynb)\n",
    "- Pandas basics - [ipynb](src/pandas_basics_v01.ipynb)\n",
    "  - (hw1) GitHub+Colab setup - [ipynb](src/hw_github_colab.ipynb)\n",
    "    - (Solns)\n",
    "      [Emily](https://github.com/hechen2020/19ma573HuixinChen),\n",
    "      [Thomas](https://github.com/TALeonard/19ma573thomasleonard),\n",
    "      [Zhiyuan](https://github.com/ZhyShe/18ma573ZhiyuanShe),\n",
    "      [Wenhao](https://github.com/wqiu96/19ma573WenhaoQIU),\n",
    "      [Ziyue](https://github.com/ZiyueNie/19ma573ZiyueNie),\n",
    "      [presenter-Chenyu](https://github.com/wuchenyu38/18ma573chenyuwu),\n",
    "\n",
    "__Finite difference operators with python functions__\n",
    "- First order finite difference - [ipynb](src/first_fd_v01.ipynb)\n",
    "- Convergence order - [ipynb](src/ffd_convergence_rate_v01.ipynb)\n",
    "  - (hw2-1) Second order finite difference operator - [ipynb](src/second_fd_v01.ipynb) \n",
    "  - (hw2-2) Finite difference operator with higher order convergence - [ipynb](src/ex_fd_v01.ipynb)\n",
    "    - [presenter Thomas](https://github.com/TALeonard/19ma573thomasleonard)\n",
    "  - (hw3-1 by venus) A discovery by Wenhao - [ipynb](https://nbviewer.jupyter.org/github/songqsh/18ma573pub/blob/master/src/fd_ex_01.ipynb)\n",
    "      - presented by [wenhao](https://github.com/wqiu96/19ma573WenhaoQIU)\n",
    "\n",
    "__BSM option price__\n",
    "- European call/put option class - [ipynb](src/european_options_class.ipynb)\n",
    "  - (hw3-2 by mercury) payoff diagram of butterfly - \n",
    "  [ipynb](src/option_combinations.ipynb)\n",
    "      - [zhiyuan](https://github.com/ZhyShe/18ma573ZhiyuanShe)\n",
    "- BSM formula - [ipynb](src/bsm_formula_v01.ipynb)\n",
    "  - (hw3-3 by venus) Bsm price change - [ipynb](src/bsm_price_change.ipynb)\n",
    "- Importing modules - [md](src/import_modules.md)\n",
    "\n"
   ]
  },
  {
   "cell_type": "markdown",
   "metadata": {
    "colab_type": "text",
    "id": "vIj9CO4mtEYo"
   },
   "source": [
    "\n",
    "__Volatility calibration__\n",
    "\n",
    "- Implied volatility - [ipynb](src/implied_vol_v01.ipynb)\n",
    "  - (hw3-4 by mercury) IV - [ipynb](src/hw_implied_vol.ipynb)\n",
    "- Volatility smile - [ipynb](src/vol_smile_v01.ipynb)\n",
    "- Volatility calibration for BSM - [ipynb](src/bsm_calibration_v01.ipynb)\n",
    "  - (hw4-1) [ipynb](src/hw_bsm_calibration.ipynb)\n",
    "- BSM + Geometric asian option - [pdf](doc/bsm_geometric_asian_option.pdf)\n",
    "    - (hw4-2) calibration performance - [pdf](doc/hw_bsm_geometric_asian_option.pdf)\n",
    "- week4 notes - [pdf](doc/week4.pdf)\n"
   ]
  },
  {
   "cell_type": "markdown",
   "metadata": {
    "colab_type": "text",
    "id": "t_Xz-lhxwr5j"
   },
   "source": [
    "__Monte Carlo and exact sampling__\n",
    "- Monte Carlo basics: Estimating $\\pi$ - \n",
    "  [pdf](doc/pi_mc_02.pdf) - [ipynb](src/pi.ipynb)\n",
    "  - (hw5-1) - [pdf](doc/hw_mc_01.pdf)\n",
    "  - (hw5-2) - [ipynb](src/hw_mc_02.ipynb)\n",
    "- week5 note - [pdf](doc/week5.pdf)\n",
    "- Ordinary Monte Carlo: Definite integral [pdf](doc/omc_integral_01.pdf)\n",
    "    - (hw6-1) [pdf](doc/hw_omc_integral.pdf)\n",
    "- Inverse transform method + Importance sampling: Definite integral - \n",
    "  [pdf](./doc/is_it_integral.pdf)\n",
    "    - (hw6-2) - [pdf](./doc/hw_is_it_integral.pdf)\n",
    "- Exact sampling of a Brownian path - [pdf](doc/bm_1d.pdf)\n",
    "    - (hw6-3) bsm + aac + exact sampling - [pdf](doc/hw_exact_sample.pdf)\n",
    "    - (hw7-1) correlations to aac - [pdf](doc/hw_payoff_correlation.pdf)\n",
    "    - (hw7-2) Exact sampling: BSM + Knock-in - [pdf](doc/hw_es_bsm_knock_in.pdf)\n",
    "        - (ref) - [pdf](other/paper/BGK97.pdf), [pdf](other/paper/BGK99.pdf)\n",
    "    - (hw7-3) vasicek model calibration - [pdf](doc/hw_vasicek_calibration.pdf)\n",
    "    \n",
    "- Week6 - [pdf](doc/week6.pdf)"
   ]
  },
  {
   "cell_type": "markdown",
   "metadata": {
    "colab": {},
    "colab_type": "code",
    "id": "UMpdMznHwOTW"
   },
   "source": [
    "__Fourier method__\n",
    "- References: \n",
    "    - [pdf by Chiu](other/paper/ChiXX_Fourier.pdf)\n",
    "    - [pdf by Carr and Madan 1999](other/paper/CM99_FFT.pdf)\n",
    "- Fourier method - [pdf](doc/fourier_method.pdf)    \n",
    "    - (hw8-1) - [pdf](doc/hw_fourier.pdf)\n",
    "    - (hw8-2) Heston - [ipynb](src/hw_fourier_heston.ipynb)\n",
    "    - (hw8-3) - derivation of characteristic function - [pdf](doc/hw_char_fun_normal.pdf)\n",
    "- Fourier method by Carr-Madan - [pdf](doc/note_fourier_carr_madan.pdf)\n",
    "- Week7 - [pdf](doc/week7.pdf)\n",
    "    - (hw) - [pdf](doc/hw_fourier_carr_madan.pdf)"
   ]
  },
  {
   "cell_type": "markdown",
   "metadata": {},
   "source": [
    "__midterm__ - [ipynb](src/midterm_v02.ipynb)"
   ]
  },
  {
   "cell_type": "markdown",
   "metadata": {},
   "source": [
    "__Euler scheme__\n",
    "- 1d Euler scheme - [pdf](doc/euler_sde_1d.pdf)\n",
    "- 2d Euler scheme - [pdf](./doc/euler_sde_2d.pdf)"
   ]
  },
  {
   "cell_type": "markdown",
   "metadata": {},
   "source": [
    "__Finite difference method__    \n",
    "\n",
    "- FTCS with a toy - [pdf](./doc/stability_ftcs_01.pdf)\n",
    "    - (hw) FTCS and stability: Heat equation with Cauchy-Dirichlet data - [pdf](doc/ftcs_stability_heat_1d.pdf) \n",
    "    - (hw) FTCS stability questions - [ipynb](src/hw_ftcs_stability.ipynb)\n",
    "\n",
    "- BTCS and CRR model - [pdf](doc/fdm_crr.pdf)\n",
    "    - (hw) [pdf](doc/hw_crr.pdf)\n",
    "    - (hw) BTCS and stability: Heat equation - [ipynb](./src/btcs_stability_heat_1d.ipynb)\n",
    "\n",
    "- Stability analysis of FTCS - [pdf](./doc/stability_ftcs_02.pdf)\n",
    "- Crank-Nicolson scheme - [pdf](./doc/stability_ftcs_03.pdf)"
   ]
  },
  {
   "cell_type": "code",
   "execution_count": null,
   "metadata": {},
   "outputs": [],
   "source": []
  }
 ],
 "metadata": {
  "colab": {
   "name": "README.ipynb",
   "provenance": [],
   "version": "0.3.2"
  },
  "kernelspec": {
   "display_name": "Python 3",
   "language": "python",
   "name": "python3"
  },
  "language_info": {
   "codemirror_mode": {
    "name": "ipython",
    "version": 3
   },
   "file_extension": ".py",
   "mimetype": "text/x-python",
   "name": "python",
   "nbconvert_exporter": "python",
   "pygments_lexer": "ipython3",
   "version": "3.6.4"
  }
 },
 "nbformat": 4,
 "nbformat_minor": 1
}
